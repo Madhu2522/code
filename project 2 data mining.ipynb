{
 "cells": [
  {
   "cell_type": "code",
   "execution_count": 97,
   "id": "b7b505c0",
   "metadata": {},
   "outputs": [],
   "source": [
    "import pandas as pd\n",
    "from collections import Counter\n",
    "from sklearn.datasets import make_classification\n",
    "from imblearn.over_sampling import SMOTE\n",
    "\n",
    "# loading the stroke dataset\n",
    "stroke_df = pd.read_csv(\"C:\\\\Users\\\\Student\\\\Desktop\\\\madhumitha\\\\data mining\\\\stroke.csv\")"
   ]
  },
  {
   "cell_type": "code",
   "execution_count": 98,
   "id": "9f9260d0",
   "metadata": {},
   "outputs": [],
   "source": [
    "import seaborn as sns\n",
    "import matplotlib.pyplot as plt"
   ]
  },
  {
   "cell_type": "code",
   "execution_count": 99,
   "id": "3792c727",
   "metadata": {},
   "outputs": [],
   "source": [
    "stroke_df['bmi']=stroke_df['bmi'].fillna(stroke_df['bmi'].median())"
   ]
  },
  {
   "cell_type": "code",
   "execution_count": 100,
   "id": "58ce4d00",
   "metadata": {},
   "outputs": [
    {
     "data": {
      "text/plain": [
       "id                   0\n",
       "gender               0\n",
       "age                  0\n",
       "hypertension         0\n",
       "heart_disease        0\n",
       "ever_married         0\n",
       "work_type            0\n",
       "Residence_type       0\n",
       "avg_glucose_level    0\n",
       "bmi                  0\n",
       "smoking_status       0\n",
       "stroke               0\n",
       "dtype: int64"
      ]
     },
     "execution_count": 100,
     "metadata": {},
     "output_type": "execute_result"
    }
   ],
   "source": [
    "stroke_df.isnull().sum()"
   ]
  },
  {
   "cell_type": "code",
   "execution_count": 101,
   "id": "a34db82a",
   "metadata": {},
   "outputs": [],
   "source": [
    "#using LabelEncoder and converting categorical features into numeric values\n",
    "from sklearn.preprocessing import LabelEncoder"
   ]
  },
  {
   "cell_type": "code",
   "execution_count": 102,
   "id": "74a182fc",
   "metadata": {},
   "outputs": [],
   "source": [
    "enc=LabelEncoder()"
   ]
  },
  {
   "cell_type": "code",
   "execution_count": 103,
   "id": "a607b871",
   "metadata": {},
   "outputs": [],
   "source": [
    "stroke_df=stroke_df.apply(enc.fit_transform)"
   ]
  },
  {
   "cell_type": "code",
   "execution_count": 104,
   "id": "d32e42f3",
   "metadata": {},
   "outputs": [
    {
     "data": {
      "text/html": [
       "<div>\n",
       "<style scoped>\n",
       "    .dataframe tbody tr th:only-of-type {\n",
       "        vertical-align: middle;\n",
       "    }\n",
       "\n",
       "    .dataframe tbody tr th {\n",
       "        vertical-align: top;\n",
       "    }\n",
       "\n",
       "    .dataframe thead th {\n",
       "        text-align: right;\n",
       "    }\n",
       "</style>\n",
       "<table border=\"1\" class=\"dataframe\">\n",
       "  <thead>\n",
       "    <tr style=\"text-align: right;\">\n",
       "      <th></th>\n",
       "      <th>id</th>\n",
       "      <th>gender</th>\n",
       "      <th>age</th>\n",
       "      <th>hypertension</th>\n",
       "      <th>heart_disease</th>\n",
       "      <th>ever_married</th>\n",
       "      <th>work_type</th>\n",
       "      <th>Residence_type</th>\n",
       "      <th>avg_glucose_level</th>\n",
       "      <th>bmi</th>\n",
       "      <th>smoking_status</th>\n",
       "      <th>stroke</th>\n",
       "    </tr>\n",
       "  </thead>\n",
       "  <tbody>\n",
       "    <tr>\n",
       "      <th>0</th>\n",
       "      <td>671</td>\n",
       "      <td>1</td>\n",
       "      <td>88</td>\n",
       "      <td>0</td>\n",
       "      <td>1</td>\n",
       "      <td>1</td>\n",
       "      <td>2</td>\n",
       "      <td>1</td>\n",
       "      <td>3850</td>\n",
       "      <td>239</td>\n",
       "      <td>1</td>\n",
       "      <td>1</td>\n",
       "    </tr>\n",
       "    <tr>\n",
       "      <th>1</th>\n",
       "      <td>3610</td>\n",
       "      <td>0</td>\n",
       "      <td>82</td>\n",
       "      <td>0</td>\n",
       "      <td>0</td>\n",
       "      <td>1</td>\n",
       "      <td>3</td>\n",
       "      <td>0</td>\n",
       "      <td>3588</td>\n",
       "      <td>154</td>\n",
       "      <td>2</td>\n",
       "      <td>1</td>\n",
       "    </tr>\n",
       "    <tr>\n",
       "      <th>2</th>\n",
       "      <td>2151</td>\n",
       "      <td>1</td>\n",
       "      <td>101</td>\n",
       "      <td>0</td>\n",
       "      <td>1</td>\n",
       "      <td>1</td>\n",
       "      <td>2</td>\n",
       "      <td>0</td>\n",
       "      <td>2483</td>\n",
       "      <td>198</td>\n",
       "      <td>2</td>\n",
       "      <td>1</td>\n",
       "    </tr>\n",
       "    <tr>\n",
       "      <th>3</th>\n",
       "      <td>4226</td>\n",
       "      <td>0</td>\n",
       "      <td>70</td>\n",
       "      <td>0</td>\n",
       "      <td>0</td>\n",
       "      <td>1</td>\n",
       "      <td>2</td>\n",
       "      <td>1</td>\n",
       "      <td>3385</td>\n",
       "      <td>217</td>\n",
       "      <td>3</td>\n",
       "      <td>1</td>\n",
       "    </tr>\n",
       "    <tr>\n",
       "      <th>4</th>\n",
       "      <td>114</td>\n",
       "      <td>0</td>\n",
       "      <td>100</td>\n",
       "      <td>1</td>\n",
       "      <td>0</td>\n",
       "      <td>1</td>\n",
       "      <td>3</td>\n",
       "      <td>0</td>\n",
       "      <td>3394</td>\n",
       "      <td>113</td>\n",
       "      <td>2</td>\n",
       "      <td>1</td>\n",
       "    </tr>\n",
       "  </tbody>\n",
       "</table>\n",
       "</div>"
      ],
      "text/plain": [
       "     id  gender  age  hypertension  heart_disease  ever_married  work_type  \\\n",
       "0   671       1   88             0              1             1          2   \n",
       "1  3610       0   82             0              0             1          3   \n",
       "2  2151       1  101             0              1             1          2   \n",
       "3  4226       0   70             0              0             1          2   \n",
       "4   114       0  100             1              0             1          3   \n",
       "\n",
       "   Residence_type  avg_glucose_level  bmi  smoking_status  stroke  \n",
       "0               1               3850  239               1       1  \n",
       "1               0               3588  154               2       1  \n",
       "2               0               2483  198               2       1  \n",
       "3               1               3385  217               3       1  \n",
       "4               0               3394  113               2       1  "
      ]
     },
     "execution_count": 104,
     "metadata": {},
     "output_type": "execute_result"
    }
   ],
   "source": [
    "stroke_df.head()"
   ]
  },
  {
   "cell_type": "code",
   "execution_count": 105,
   "id": "42c26dd0",
   "metadata": {},
   "outputs": [],
   "source": [
    "x=stroke_df.drop(columns=['id','stroke'])\n",
    "y=stroke_df['stroke']"
   ]
  },
  {
   "cell_type": "code",
   "execution_count": 106,
   "id": "09e1c7d9",
   "metadata": {},
   "outputs": [
    {
     "data": {
      "text/plain": [
       "0    4861\n",
       "1     249\n",
       "Name: stroke, dtype: int64"
      ]
     },
     "execution_count": 106,
     "metadata": {},
     "output_type": "execute_result"
    }
   ],
   "source": [
    "y.value_counts()"
   ]
  },
  {
   "cell_type": "code",
   "execution_count": 107,
   "id": "edeb3a2b",
   "metadata": {},
   "outputs": [
    {
     "data": {
      "text/plain": [
       "(5110, 10)"
      ]
     },
     "execution_count": 107,
     "metadata": {},
     "output_type": "execute_result"
    }
   ],
   "source": [
    "x.shape"
   ]
  },
  {
   "cell_type": "code",
   "execution_count": 108,
   "id": "c7df138c",
   "metadata": {},
   "outputs": [
    {
     "data": {
      "text/plain": [
       "(5110,)"
      ]
     },
     "execution_count": 108,
     "metadata": {},
     "output_type": "execute_result"
    }
   ],
   "source": [
    "y.shape"
   ]
  },
  {
   "cell_type": "code",
   "execution_count": 109,
   "id": "169bdca9",
   "metadata": {},
   "outputs": [],
   "source": [
    "#This dataset is imbalanced, solving this problem by using SMOTE\n",
    "oversample = SMOTE()\n",
    "x_res, y_res = oversample.fit_resample(x, y)"
   ]
  },
  {
   "cell_type": "code",
   "execution_count": 110,
   "id": "edb597dc",
   "metadata": {},
   "outputs": [
    {
     "data": {
      "text/plain": [
       "(9722, 10)"
      ]
     },
     "execution_count": 110,
     "metadata": {},
     "output_type": "execute_result"
    }
   ],
   "source": [
    "x_res.shape"
   ]
  },
  {
   "cell_type": "code",
   "execution_count": 111,
   "id": "17097348",
   "metadata": {},
   "outputs": [
    {
     "data": {
      "text/plain": [
       "(9722,)"
      ]
     },
     "execution_count": 111,
     "metadata": {},
     "output_type": "execute_result"
    }
   ],
   "source": [
    "y_res.shape"
   ]
  },
  {
   "cell_type": "code",
   "execution_count": 112,
   "id": "7d3c63df",
   "metadata": {},
   "outputs": [
    {
     "data": {
      "text/plain": [
       "1    4861\n",
       "0    4861\n",
       "Name: stroke, dtype: int64"
      ]
     },
     "execution_count": 112,
     "metadata": {},
     "output_type": "execute_result"
    }
   ],
   "source": [
    "y_res.value_counts()"
   ]
  },
  {
   "cell_type": "code",
   "execution_count": 113,
   "id": "b699f496",
   "metadata": {},
   "outputs": [
    {
     "data": {
      "text/html": [
       "<div>\n",
       "<style scoped>\n",
       "    .dataframe tbody tr th:only-of-type {\n",
       "        vertical-align: middle;\n",
       "    }\n",
       "\n",
       "    .dataframe tbody tr th {\n",
       "        vertical-align: top;\n",
       "    }\n",
       "\n",
       "    .dataframe thead th {\n",
       "        text-align: right;\n",
       "    }\n",
       "</style>\n",
       "<table border=\"1\" class=\"dataframe\">\n",
       "  <thead>\n",
       "    <tr style=\"text-align: right;\">\n",
       "      <th></th>\n",
       "      <th>gender</th>\n",
       "      <th>age</th>\n",
       "      <th>hypertension</th>\n",
       "      <th>heart_disease</th>\n",
       "      <th>ever_married</th>\n",
       "      <th>work_type</th>\n",
       "      <th>Residence_type</th>\n",
       "      <th>avg_glucose_level</th>\n",
       "      <th>bmi</th>\n",
       "      <th>smoking_status</th>\n",
       "    </tr>\n",
       "  </thead>\n",
       "  <tbody>\n",
       "    <tr>\n",
       "      <th>0</th>\n",
       "      <td>1</td>\n",
       "      <td>88</td>\n",
       "      <td>0</td>\n",
       "      <td>1</td>\n",
       "      <td>1</td>\n",
       "      <td>2</td>\n",
       "      <td>1</td>\n",
       "      <td>3850</td>\n",
       "      <td>239</td>\n",
       "      <td>1</td>\n",
       "    </tr>\n",
       "    <tr>\n",
       "      <th>1</th>\n",
       "      <td>0</td>\n",
       "      <td>82</td>\n",
       "      <td>0</td>\n",
       "      <td>0</td>\n",
       "      <td>1</td>\n",
       "      <td>3</td>\n",
       "      <td>0</td>\n",
       "      <td>3588</td>\n",
       "      <td>154</td>\n",
       "      <td>2</td>\n",
       "    </tr>\n",
       "    <tr>\n",
       "      <th>2</th>\n",
       "      <td>1</td>\n",
       "      <td>101</td>\n",
       "      <td>0</td>\n",
       "      <td>1</td>\n",
       "      <td>1</td>\n",
       "      <td>2</td>\n",
       "      <td>0</td>\n",
       "      <td>2483</td>\n",
       "      <td>198</td>\n",
       "      <td>2</td>\n",
       "    </tr>\n",
       "    <tr>\n",
       "      <th>3</th>\n",
       "      <td>0</td>\n",
       "      <td>70</td>\n",
       "      <td>0</td>\n",
       "      <td>0</td>\n",
       "      <td>1</td>\n",
       "      <td>2</td>\n",
       "      <td>1</td>\n",
       "      <td>3385</td>\n",
       "      <td>217</td>\n",
       "      <td>3</td>\n",
       "    </tr>\n",
       "    <tr>\n",
       "      <th>4</th>\n",
       "      <td>0</td>\n",
       "      <td>100</td>\n",
       "      <td>1</td>\n",
       "      <td>0</td>\n",
       "      <td>1</td>\n",
       "      <td>3</td>\n",
       "      <td>0</td>\n",
       "      <td>3394</td>\n",
       "      <td>113</td>\n",
       "      <td>2</td>\n",
       "    </tr>\n",
       "  </tbody>\n",
       "</table>\n",
       "</div>"
      ],
      "text/plain": [
       "   gender  age  hypertension  heart_disease  ever_married  work_type  \\\n",
       "0       1   88             0              1             1          2   \n",
       "1       0   82             0              0             1          3   \n",
       "2       1  101             0              1             1          2   \n",
       "3       0   70             0              0             1          2   \n",
       "4       0  100             1              0             1          3   \n",
       "\n",
       "   Residence_type  avg_glucose_level  bmi  smoking_status  \n",
       "0               1               3850  239               1  \n",
       "1               0               3588  154               2  \n",
       "2               0               2483  198               2  \n",
       "3               1               3385  217               3  \n",
       "4               0               3394  113               2  "
      ]
     },
     "execution_count": 113,
     "metadata": {},
     "output_type": "execute_result"
    }
   ],
   "source": [
    "x_res.head()"
   ]
  },
  {
   "cell_type": "code",
   "execution_count": 114,
   "id": "95f2cf44",
   "metadata": {},
   "outputs": [],
   "source": [
    "#normalizing data using StandardScaler\n",
    "from sklearn.preprocessing import StandardScaler "
   ]
  },
  {
   "cell_type": "code",
   "execution_count": 115,
   "id": "0ae716dd",
   "metadata": {},
   "outputs": [],
   "source": [
    "sc=StandardScaler()"
   ]
  },
  {
   "cell_type": "code",
   "execution_count": 116,
   "id": "5984617c",
   "metadata": {},
   "outputs": [],
   "source": [
    "x_new=sc.fit_transform(x_res)"
   ]
  },
  {
   "cell_type": "code",
   "execution_count": 117,
   "id": "ba63443a",
   "metadata": {},
   "outputs": [],
   "source": [
    "x_new=pd.DataFrame(x_new,columns=x_res.columns)"
   ]
  },
  {
   "cell_type": "code",
   "execution_count": 118,
   "id": "a9088342",
   "metadata": {},
   "outputs": [
    {
     "data": {
      "text/html": [
       "<div>\n",
       "<style scoped>\n",
       "    .dataframe tbody tr th:only-of-type {\n",
       "        vertical-align: middle;\n",
       "    }\n",
       "\n",
       "    .dataframe tbody tr th {\n",
       "        vertical-align: top;\n",
       "    }\n",
       "\n",
       "    .dataframe thead th {\n",
       "        text-align: right;\n",
       "    }\n",
       "</style>\n",
       "<table border=\"1\" class=\"dataframe\">\n",
       "  <thead>\n",
       "    <tr style=\"text-align: right;\">\n",
       "      <th></th>\n",
       "      <th>gender</th>\n",
       "      <th>age</th>\n",
       "      <th>hypertension</th>\n",
       "      <th>heart_disease</th>\n",
       "      <th>ever_married</th>\n",
       "      <th>work_type</th>\n",
       "      <th>Residence_type</th>\n",
       "      <th>avg_glucose_level</th>\n",
       "      <th>bmi</th>\n",
       "      <th>smoking_status</th>\n",
       "    </tr>\n",
       "  </thead>\n",
       "  <tbody>\n",
       "    <tr>\n",
       "      <th>0</th>\n",
       "      <td>1.467454</td>\n",
       "      <td>0.561788</td>\n",
       "      <td>-0.301680</td>\n",
       "      <td>4.397603</td>\n",
       "      <td>0.623584</td>\n",
       "      <td>0.041386</td>\n",
       "      <td>1.224430</td>\n",
       "      <td>1.483709</td>\n",
       "      <td>1.155961</td>\n",
       "      <td>-0.272619</td>\n",
       "    </tr>\n",
       "    <tr>\n",
       "      <th>1</th>\n",
       "      <td>-0.680805</td>\n",
       "      <td>0.288297</td>\n",
       "      <td>-0.301680</td>\n",
       "      <td>-0.227397</td>\n",
       "      <td>0.623584</td>\n",
       "      <td>1.067792</td>\n",
       "      <td>-0.816707</td>\n",
       "      <td>1.265258</td>\n",
       "      <td>-0.180306</td>\n",
       "      <td>0.765532</td>\n",
       "    </tr>\n",
       "    <tr>\n",
       "      <th>2</th>\n",
       "      <td>1.467454</td>\n",
       "      <td>1.154352</td>\n",
       "      <td>-0.301680</td>\n",
       "      <td>4.397603</td>\n",
       "      <td>0.623584</td>\n",
       "      <td>0.041386</td>\n",
       "      <td>-0.816707</td>\n",
       "      <td>0.343926</td>\n",
       "      <td>0.511409</td>\n",
       "      <td>0.765532</td>\n",
       "    </tr>\n",
       "    <tr>\n",
       "      <th>3</th>\n",
       "      <td>-0.680805</td>\n",
       "      <td>-0.258685</td>\n",
       "      <td>-0.301680</td>\n",
       "      <td>-0.227397</td>\n",
       "      <td>0.623584</td>\n",
       "      <td>0.041386</td>\n",
       "      <td>1.224430</td>\n",
       "      <td>1.096000</td>\n",
       "      <td>0.810104</td>\n",
       "      <td>1.803683</td>\n",
       "    </tr>\n",
       "    <tr>\n",
       "      <th>4</th>\n",
       "      <td>-0.680805</td>\n",
       "      <td>1.108770</td>\n",
       "      <td>3.314765</td>\n",
       "      <td>-0.227397</td>\n",
       "      <td>0.623584</td>\n",
       "      <td>1.067792</td>\n",
       "      <td>-0.816707</td>\n",
       "      <td>1.103504</td>\n",
       "      <td>-0.824858</td>\n",
       "      <td>0.765532</td>\n",
       "    </tr>\n",
       "  </tbody>\n",
       "</table>\n",
       "</div>"
      ],
      "text/plain": [
       "     gender       age  hypertension  heart_disease  ever_married  work_type  \\\n",
       "0  1.467454  0.561788     -0.301680       4.397603      0.623584   0.041386   \n",
       "1 -0.680805  0.288297     -0.301680      -0.227397      0.623584   1.067792   \n",
       "2  1.467454  1.154352     -0.301680       4.397603      0.623584   0.041386   \n",
       "3 -0.680805 -0.258685     -0.301680      -0.227397      0.623584   0.041386   \n",
       "4 -0.680805  1.108770      3.314765      -0.227397      0.623584   1.067792   \n",
       "\n",
       "   Residence_type  avg_glucose_level       bmi  smoking_status  \n",
       "0        1.224430           1.483709  1.155961       -0.272619  \n",
       "1       -0.816707           1.265258 -0.180306        0.765532  \n",
       "2       -0.816707           0.343926  0.511409        0.765532  \n",
       "3        1.224430           1.096000  0.810104        1.803683  \n",
       "4       -0.816707           1.103504 -0.824858        0.765532  "
      ]
     },
     "execution_count": 118,
     "metadata": {},
     "output_type": "execute_result"
    }
   ],
   "source": [
    "x_new.head()"
   ]
  },
  {
   "cell_type": "code",
   "execution_count": 119,
   "id": "41a9b38b",
   "metadata": {},
   "outputs": [],
   "source": [
    "#splitting dataset into training and testing\n",
    "from sklearn.model_selection import train_test_split"
   ]
  },
  {
   "cell_type": "code",
   "execution_count": 120,
   "id": "5d3f8d29",
   "metadata": {},
   "outputs": [],
   "source": [
    "x_train,x_test,y_train,y_test=train_test_split(x_new,y_res,test_size=0.2,random_state=957)"
   ]
  },
  {
   "cell_type": "code",
   "execution_count": 121,
   "id": "0b523b66",
   "metadata": {},
   "outputs": [
    {
     "data": {
      "text/plain": [
       "(7777, 10)"
      ]
     },
     "execution_count": 121,
     "metadata": {},
     "output_type": "execute_result"
    }
   ],
   "source": [
    "x_train.shape"
   ]
  },
  {
   "cell_type": "code",
   "execution_count": 122,
   "id": "9f4ba289",
   "metadata": {},
   "outputs": [
    {
     "data": {
      "text/plain": [
       "(1945, 10)"
      ]
     },
     "execution_count": 122,
     "metadata": {},
     "output_type": "execute_result"
    }
   ],
   "source": [
    "x_test.shape"
   ]
  },
  {
   "cell_type": "code",
   "execution_count": 123,
   "id": "9bb94aab",
   "metadata": {},
   "outputs": [
    {
     "data": {
      "text/plain": [
       "(7777,)"
      ]
     },
     "execution_count": 123,
     "metadata": {},
     "output_type": "execute_result"
    }
   ],
   "source": [
    "y_train.shape"
   ]
  },
  {
   "cell_type": "code",
   "execution_count": 124,
   "id": "9f72b03a",
   "metadata": {},
   "outputs": [
    {
     "data": {
      "text/plain": [
       "(1945,)"
      ]
     },
     "execution_count": 124,
     "metadata": {},
     "output_type": "execute_result"
    }
   ],
   "source": [
    "y_test.shape"
   ]
  },
  {
   "cell_type": "code",
   "execution_count": 125,
   "id": "6e475554",
   "metadata": {},
   "outputs": [],
   "source": [
    "from sklearn.linear_model import LogisticRegression "
   ]
  },
  {
   "cell_type": "code",
   "execution_count": 126,
   "id": "d5a336ea",
   "metadata": {},
   "outputs": [],
   "source": [
    "from sklearn.neighbors import KNeighborsClassifier"
   ]
  },
  {
   "cell_type": "code",
   "execution_count": 127,
   "id": "bea990b6",
   "metadata": {},
   "outputs": [],
   "source": [
    "from sklearn.svm import SVC"
   ]
  },
  {
   "cell_type": "code",
   "execution_count": 128,
   "id": "26fbd6d6",
   "metadata": {},
   "outputs": [],
   "source": [
    "from sklearn.naive_bayes import GaussianNB"
   ]
  },
  {
   "cell_type": "code",
   "execution_count": 129,
   "id": "6c7eed9b",
   "metadata": {},
   "outputs": [],
   "source": [
    "Lr=LogisticRegression()"
   ]
  },
  {
   "cell_type": "code",
   "execution_count": 130,
   "id": "20ff54de",
   "metadata": {},
   "outputs": [],
   "source": [
    "Knn=KNeighborsClassifier()"
   ]
  },
  {
   "cell_type": "code",
   "execution_count": 131,
   "id": "c4b62bf1",
   "metadata": {},
   "outputs": [],
   "source": [
    "Svm=SVC(probability=True)"
   ]
  },
  {
   "cell_type": "code",
   "execution_count": 132,
   "id": "88e7be58",
   "metadata": {},
   "outputs": [],
   "source": [
    "Nb=GaussianNB()"
   ]
  },
  {
   "cell_type": "code",
   "execution_count": 133,
   "id": "9d69f708",
   "metadata": {},
   "outputs": [
    {
     "data": {
      "text/plain": [
       "LogisticRegression()"
      ]
     },
     "execution_count": 133,
     "metadata": {},
     "output_type": "execute_result"
    }
   ],
   "source": [
    "#building logistic regression model using training set\n",
    "Lr.fit(x_train,y_train)"
   ]
  },
  {
   "cell_type": "code",
   "execution_count": 134,
   "id": "c6d82906",
   "metadata": {},
   "outputs": [
    {
     "data": {
      "text/plain": [
       "KNeighborsClassifier()"
      ]
     },
     "execution_count": 134,
     "metadata": {},
     "output_type": "execute_result"
    }
   ],
   "source": [
    "##building KNearest Neighbour Classifier model using training set\n",
    "Knn.fit(x_train,y_train)"
   ]
  },
  {
   "cell_type": "code",
   "execution_count": 135,
   "id": "329d83e8",
   "metadata": {},
   "outputs": [
    {
     "data": {
      "text/plain": [
       "SVC(probability=True)"
      ]
     },
     "execution_count": 135,
     "metadata": {},
     "output_type": "execute_result"
    }
   ],
   "source": [
    "#building Support Vector Machine Classifier model using training set\n",
    "Svm.fit(x_train,y_train)"
   ]
  },
  {
   "cell_type": "code",
   "execution_count": 136,
   "id": "a5ec6bf3",
   "metadata": {},
   "outputs": [
    {
     "data": {
      "text/plain": [
       "GaussianNB()"
      ]
     },
     "execution_count": 136,
     "metadata": {},
     "output_type": "execute_result"
    }
   ],
   "source": [
    "#building Naive Bayes model using the training set\n",
    "Nb.fit(x_train,y_train)"
   ]
  },
  {
   "cell_type": "code",
   "execution_count": 137,
   "id": "b793420a",
   "metadata": {},
   "outputs": [],
   "source": [
    "from sklearn.metrics import accuracy_score,confusion_matrix,classification_report,roc_curve,roc_auc_score"
   ]
  },
  {
   "cell_type": "code",
   "execution_count": 138,
   "id": "6bc9927b",
   "metadata": {},
   "outputs": [
    {
     "name": "stderr",
     "output_type": "stream",
     "text": [
      "C:\\Users\\Student\\anaconda3\\lib\\site-packages\\sklearn\\neighbors\\_classification.py:228: FutureWarning: Unlike other reduction functions (e.g. `skew`, `kurtosis`), the default behavior of `mode` typically preserves the axis it acts along. In SciPy 1.11.0, this behavior will change: the default value of `keepdims` will become False, the `axis` over which the statistic is taken will be eliminated, and the value None will no longer be accepted. Set `keepdims` to True or False to avoid this warning.\n",
      "  mode, _ = stats.mode(_y[neigh_ind, k], axis=1)\n"
     ]
    }
   ],
   "source": [
    "y_pred_Lr=Lr.predict(x_test)\n",
    "y_pred_Knn=Knn.predict(x_test)\n",
    "y_pred_Svm=Svm.predict(x_test)\n",
    "y_pred_Nb=Nb.predict(x_test)"
   ]
  },
  {
   "cell_type": "code",
   "execution_count": 139,
   "id": "ebce30a8",
   "metadata": {},
   "outputs": [],
   "source": [
    "y_pred_Lr_prob=Lr.predict_proba(x_test)\n",
    "y_pred_Knn_prob=Knn.predict_proba(x_test)\n",
    "y_pred_Svm_prob=Svm.predict_proba(x_test)\n",
    "y_pred_Nb_prob=Nb.predict_proba(x_test)"
   ]
  },
  {
   "cell_type": "code",
   "execution_count": 140,
   "id": "9bfcf007",
   "metadata": {},
   "outputs": [
    {
     "name": "stdout",
     "output_type": "stream",
     "text": [
      "logistic regression\n",
      "0.8123393316195373\n",
      "[[781 226]\n",
      " [139 799]]\n",
      "              precision    recall  f1-score   support\n",
      "\n",
      "           0       0.85      0.78      0.81      1007\n",
      "           1       0.78      0.85      0.81       938\n",
      "\n",
      "    accuracy                           0.81      1945\n",
      "   macro avg       0.81      0.81      0.81      1945\n",
      "weighted avg       0.82      0.81      0.81      1945\n",
      "\n",
      "0.8925326552088471\n"
     ]
    }
   ],
   "source": [
    "#evaluating and printing values for logistic regression\n",
    "print('logistic regression')\n",
    "print(accuracy_score(y_test,y_pred_Lr))\n",
    "print(confusion_matrix(y_test,y_pred_Lr))\n",
    "print(classification_report(y_test,y_pred_Lr))\n",
    "print(roc_auc_score(y_test, y_pred_Lr_prob[:,1]))"
   ]
  },
  {
   "cell_type": "code",
   "execution_count": 141,
   "id": "f64679a6",
   "metadata": {},
   "outputs": [
    {
     "name": "stdout",
     "output_type": "stream",
     "text": [
      "Knn\n",
      "0.86426735218509\n",
      "[[796 211]\n",
      " [ 53 885]]\n",
      "              precision    recall  f1-score   support\n",
      "\n",
      "           0       0.94      0.79      0.86      1007\n",
      "           1       0.81      0.94      0.87       938\n",
      "\n",
      "    accuracy                           0.86      1945\n",
      "   macro avg       0.87      0.87      0.86      1945\n",
      "weighted avg       0.87      0.86      0.86      1945\n",
      "\n",
      "0.9302351556164418\n"
     ]
    }
   ],
   "source": [
    "#evaluating and printing values for K Nearest Neighbor Classifier\n",
    "print('Knn')\n",
    "print(accuracy_score(y_test,y_pred_Knn))\n",
    "print(confusion_matrix(y_test,y_pred_Knn))\n",
    "print(classification_report(y_test,y_pred_Knn))\n",
    "print(roc_auc_score(y_test, y_pred_Knn_prob[:,1]))"
   ]
  },
  {
   "cell_type": "code",
   "execution_count": 142,
   "id": "cf955764",
   "metadata": {},
   "outputs": [
    {
     "name": "stdout",
     "output_type": "stream",
     "text": [
      "Svm\n",
      "0.8611825192802056\n",
      "[[842 165]\n",
      " [105 833]]\n",
      "              precision    recall  f1-score   support\n",
      "\n",
      "           0       0.89      0.84      0.86      1007\n",
      "           1       0.83      0.89      0.86       938\n",
      "\n",
      "    accuracy                           0.86      1945\n",
      "   macro avg       0.86      0.86      0.86      1945\n",
      "weighted avg       0.86      0.86      0.86      1945\n",
      "\n",
      "0.9302351556164418\n"
     ]
    }
   ],
   "source": [
    "#evaluating and printing values for Support Vector Machine\n",
    "print('Svm')\n",
    "print(accuracy_score(y_test,y_pred_Svm))\n",
    "print(confusion_matrix(y_test,y_pred_Svm))\n",
    "print(classification_report(y_test,y_pred_Svm))\n",
    "print(roc_auc_score(y_test, y_pred_Knn_prob[:,1]))"
   ]
  },
  {
   "cell_type": "code",
   "execution_count": 143,
   "id": "7b6f8441",
   "metadata": {},
   "outputs": [
    {
     "name": "stdout",
     "output_type": "stream",
     "text": [
      "Nb\n",
      "0.7958868894601543\n",
      "[[706 301]\n",
      " [ 96 842]]\n",
      "              precision    recall  f1-score   support\n",
      "\n",
      "           0       0.88      0.70      0.78      1007\n",
      "           1       0.74      0.90      0.81       938\n",
      "\n",
      "    accuracy                           0.80      1945\n",
      "   macro avg       0.81      0.80      0.79      1945\n",
      "weighted avg       0.81      0.80      0.79      1945\n",
      "\n",
      "0.8871291153820908\n"
     ]
    }
   ],
   "source": [
    "#evaluating and printing values for Naive Bayes\n",
    "print('Nb')\n",
    "print(accuracy_score(y_test,y_pred_Nb))\n",
    "print(confusion_matrix(y_test,y_pred_Nb))\n",
    "print(classification_report(y_test,y_pred_Nb))\n",
    "print(roc_auc_score(y_test, y_pred_Nb_prob[:,1]))"
   ]
  },
  {
   "cell_type": "code",
   "execution_count": 144,
   "id": "d9756b18",
   "metadata": {},
   "outputs": [],
   "source": [
    "fpr1, tpr1, thresh1 = roc_curve(y_test, y_pred_Lr_prob[:,1], pos_label=1)\n",
    "fpr2, tpr2, thresh2 = roc_curve(y_test, y_pred_Knn_prob[:,1], pos_label=1)\n",
    "fpr3, tpr3, thresh3 = roc_curve(y_test, y_pred_Svm_prob[:,1], pos_label=1)\n",
    "fpr4, tpr4, thresh4 = roc_curve(y_test, y_pred_Nb_prob[:,1], pos_label=1)                    "
   ]
  },
  {
   "cell_type": "code",
   "execution_count": 145,
   "id": "ed26fe04",
   "metadata": {},
   "outputs": [],
   "source": [
    "random_probs = [0 for i in range(len(y_test))]\n",
    "p_fpr, p_tpr, _ = roc_curve(y_test, random_probs, pos_label=1)"
   ]
  },
  {
   "cell_type": "code",
   "execution_count": 146,
   "id": "13b74643",
   "metadata": {},
   "outputs": [
    {
     "data": {
      "image/png": "[encoded data removed]",
      "text/plain": [
       "<Figure size 800x550 with 1 Axes>"
      ]
     },
     "metadata": {},
     "output_type": "display_data"
    }
   ],
   "source": [
    "plt.style.use('seaborn')\n",
    "\n",
    "# for plotting roc curves\n",
    "plt.plot(fpr1, tpr1, linestyle='--',color='orange', label='Logistic Regression')\n",
    "plt.plot(fpr2, tpr2, linestyle='--',color='green', label='KNN')\n",
    "plt.plot(fpr3, tpr3, linestyle='--',color='red', label='SVM')\n",
    "plt.plot(fpr4, tpr4, linestyle='--',color='yellow', label='Naive Bayes')\n",
    "plt.plot(p_fpr, p_tpr, linestyle='--', color='blue')\n",
    "# title of the curve\n",
    "plt.title('ROC curve')\n",
    "# x label\n",
    "plt.xlabel('False Positive Rate')\n",
    "# y label\n",
    "plt.ylabel('True Positive rate')\n",
    "plt.legend(loc='best')\n",
    "plt.savefig('ROC',dpi=300)\n",
    "plt.show();"
   ]
  },
  {
   "cell_type": "markdown",
   "id": "9703385e",
   "metadata": {},
   "source": [
    "We can choose either knn or svm those are best models out of all the models."
   ]
  },
  {
   "cell_type": "code",
   "execution_count": null,
   "id": "ff02eb59",
   "metadata": {},
   "outputs": [],
   "source": []
  }
 ],
 "metadata": {
  "kernelspec": {
   "display_name": "Python 3 (ipykernel)",
   "language": "python",
   "name": "python3"
  },
  "language_info": {
   "codemirror_mode": {
    "name": "ipython",
    "version": 3
   },
   "file_extension": ".py",
   "mimetype": "text/x-python",
   "name": "python",
   "nbconvert_exporter": "python",
   "pygments_lexer": "ipython3",
   "version": "3.9.13"
  }
 },
 "nbformat": 4,
 "nbformat_minor": 5
}
